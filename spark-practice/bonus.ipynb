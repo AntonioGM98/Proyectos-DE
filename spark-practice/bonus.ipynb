{
 "cells": [
  {
   "cell_type": "code",
   "execution_count": 2,
   "metadata": {},
   "outputs": [],
   "source": [
    "from pyspark.sql import SparkSession\n",
    "from pyspark.sql import functions as f"
   ]
  },
  {
   "cell_type": "code",
   "execution_count": 3,
   "metadata": {},
   "outputs": [
    {
     "name": "stderr",
     "output_type": "stream",
     "text": [
      "23/08/04 09:08:25 WARN Utils: Your hostname, antoniogm-ThinkPad-T14-Gen-3 resolves to a loopback address: 127.0.1.1; using 192.168.1.23 instead (on interface wlp0s20f3)\n",
      "23/08/04 09:08:25 WARN Utils: Set SPARK_LOCAL_IP if you need to bind to another address\n",
      "Setting default log level to \"WARN\".\n",
      "To adjust logging level use sc.setLogLevel(newLevel). For SparkR, use setLogLevel(newLevel).\n",
      "23/08/04 09:08:26 WARN NativeCodeLoader: Unable to load native-hadoop library for your platform... using builtin-java classes where applicable\n"
     ]
    }
   ],
   "source": [
    "spark = SparkSession.builder.getOrCreate()"
   ]
  },
  {
   "cell_type": "code",
   "execution_count": 53,
   "metadata": {},
   "outputs": [],
   "source": [
    "df = spark.read.csv('final_data/', header=True)\n",
    "\n",
    "df = df.withColumn('State', f.col('State').cast('int')) # Al venir de un .csv, se lee como un String por lo que hay que repetir el casteo"
   ]
  },
  {
   "cell_type": "markdown",
   "metadata": {},
   "source": [
    "### Contar numero de asientos disponibles a la mañana y a la tarde."
   ]
  },
  {
   "cell_type": "code",
   "execution_count": 34,
   "metadata": {},
   "outputs": [
    {
     "name": "stdout",
     "output_type": "stream",
     "text": [
      "Nº asientos disponibles por la mañana:  28029\n",
      "Nº asientos disponibles por la tarde:   20830\n"
     ]
    }
   ],
   "source": [
    "\n",
    "df_morning = df.filter(f.expr('hour(DepartureTime) < 12'))\n",
    "df_afternoon = df.filter(f.expr('hour(DepartureTime) >= 12'))\n",
    "\n",
    "n_seats_morning = df_morning.groupBy().sum('State').collect()[0][0]\n",
    "n_seats_afternoon = df_afternoon.groupBy().sum('State').collect()[0][0]\n",
    "\n",
    "print('Nº asientos disponibles por la mañana: ', n_seats_morning)\n",
    "print('Nº asientos disponibles por la tarde:  ', n_seats_afternoon)"
   ]
  },
  {
   "cell_type": "markdown",
   "metadata": {},
   "source": [
    "### ¿Existe algún journey con más de una portion?"
   ]
  },
  {
   "cell_type": "code",
   "execution_count": 57,
   "metadata": {},
   "outputs": [
    {
     "name": "stdout",
     "output_type": "stream",
     "text": [
      "+----------+----------+\n",
      "|journey_id|n_portions|\n",
      "+----------+----------+\n",
      "|       125|         1|\n",
      "|         7|         1|\n",
      "|        51|         1|\n",
      "|       124|         1|\n",
      "|       169|         1|\n",
      "|        15|         1|\n",
      "|        54|         1|\n",
      "|8589934607|         1|\n",
      "|       155|         1|\n",
      "|       154|         1|\n",
      "|       132|         1|\n",
      "|8589934618|         1|\n",
      "|       101|         1|\n",
      "|        11|         1|\n",
      "|       138|         1|\n",
      "|        29|         1|\n",
      "|        69|         1|\n",
      "|        42|         1|\n",
      "|       112|         1|\n",
      "|        73|         1|\n",
      "+----------+----------+\n",
      "only showing top 20 rows\n",
      "\n",
      "Journeys con más de un portion: \n",
      "+----------+----------+\n",
      "|journey_id|n_portions|\n",
      "+----------+----------+\n",
      "+----------+----------+\n",
      "\n",
      "Hay 0  con más de un portion\n"
     ]
    }
   ],
   "source": [
    "# Contamos el nº de portions por cada journey\n",
    "df_portions = df.groupBy('journey_id').agg(f.countDistinct('portion_id').alias('n_portions'))\n",
    "df_portions.show()\n",
    "df_journeys_result = df_portions.filter(f.col('n_portions') > 1)\n",
    "\n",
    "print(\"Journeys con más de un portion: \")\n",
    "df_journeys_result.show(1000000)\n",
    "\n",
    "print('Hay',df_journeys_result.count(),' con más de un portion')"
   ]
  },
  {
   "cell_type": "markdown",
   "metadata": {},
   "source": [
    "### Añadir una nueva columna al dataframe existente con el valor entero de la extended availability."
   ]
  },
  {
   "cell_type": "code",
   "execution_count": null,
   "metadata": {},
   "outputs": [],
   "source": []
  },
  {
   "cell_type": "markdown",
   "metadata": {},
   "source": [
    "### Eliminar todos los journeys que contengan más de un vuelo (journeys con escala) del dataframe."
   ]
  },
  {
   "cell_type": "code",
   "execution_count": 47,
   "metadata": {},
   "outputs": [],
   "source": [
    "df_flights_per_journey = df.groupBy('journey_id').agg(f.count('flight_id').alias('num_flights'))\n",
    "\n",
    "df_sin_escala = df_flights_per_journey.filter(f.col('num_flights') == 1)\n",
    "\n",
    "#df_flights_per_journey.show()\n",
    "\n",
    "df_result = df.join(df_sin_escala, 'journey_id', 'inner') # Elimina las filas donde no coincide el valormclave\n"
   ]
  }
 ],
 "metadata": {
  "kernelspec": {
   "display_name": "Python 3",
   "language": "python",
   "name": "python3"
  },
  "language_info": {
   "codemirror_mode": {
    "name": "ipython",
    "version": 3
   },
   "file_extension": ".py",
   "mimetype": "text/x-python",
   "name": "python",
   "nbconvert_exporter": "python",
   "pygments_lexer": "ipython3",
   "version": "3.8.10"
  },
  "orig_nbformat": 4
 },
 "nbformat": 4,
 "nbformat_minor": 2
}
